{
 "cells": [
  {
   "cell_type": "code",
   "execution_count": 117,
   "id": "d69c866d",
   "metadata": {},
   "outputs": [],
   "source": [
    "import numpy as np\n",
    "import pandas as pd\n",
    "from sklearn.metrics import classification_report"
   ]
  },
  {
   "cell_type": "code",
   "execution_count": 118,
   "id": "3df2da19",
   "metadata": {},
   "outputs": [
    {
     "name": "stdout",
     "output_type": "stream",
     "text": [
      "(91,)\n"
     ]
    }
   ],
   "source": [
    "x = open('part-00000')\n",
    "lines = x.readlines()\n",
    "w = np.zeros(len(lines))\n",
    "print(w.shape)\n",
    "for line in lines:\n",
    "    wi, val = line.strip().split('\\t', 1)\n",
    "    w[int(wi[1:])] = float(val)"
   ]
  },
  {
   "cell_type": "markdown",
   "id": "c0b63bcf",
   "metadata": {},
   "source": [
    "## Train data"
   ]
  },
  {
   "cell_type": "code",
   "execution_count": 119,
   "id": "dd2ef9ab",
   "metadata": {},
   "outputs": [],
   "source": [
    "data = pd.read_csv('os_data.csv', header=None)\n",
    "np_data = data.to_numpy()"
   ]
  },
  {
   "cell_type": "code",
   "execution_count": 120,
   "id": "fcf2d0fd",
   "metadata": {},
   "outputs": [],
   "source": [
    "def prepare_data(data):\n",
    "    y = data[:,-1]\n",
    "    x = data[:,:-1]\n",
    "    bias = np.ones((len(x),1))\n",
    "    return np.concatenate((bias,x ), axis = 1), y\n",
    "\n",
    "def sigmoid(x):\n",
    "    return 1/(1+np.exp(-x))\n",
    "\n",
    "def predict(X, w):\n",
    "    return sigmoid(np.dot(X,w)) > 0.5\n",
    "   "
   ]
  },
  {
   "cell_type": "code",
   "execution_count": 121,
   "id": "d30444ac",
   "metadata": {},
   "outputs": [],
   "source": [
    "X, y = prepare_data(np_data)"
   ]
  },
  {
   "cell_type": "code",
   "execution_count": 122,
   "id": "ae9a2211",
   "metadata": {},
   "outputs": [
    {
     "data": {
      "text/plain": [
       "(181350, 91)"
      ]
     },
     "execution_count": 122,
     "metadata": {},
     "output_type": "execute_result"
    }
   ],
   "source": [
    "X.shape"
   ]
  },
  {
   "cell_type": "code",
   "execution_count": 123,
   "id": "9617c971",
   "metadata": {},
   "outputs": [],
   "source": [
    "y_pred = predict(X,w)"
   ]
  },
  {
   "cell_type": "code",
   "execution_count": 124,
   "id": "e7651997",
   "metadata": {},
   "outputs": [
    {
     "name": "stdout",
     "output_type": "stream",
     "text": [
      "              precision    recall  f1-score   support\n",
      "\n",
      "         0.0       0.71      0.45      0.55     90675\n",
      "         1.0       0.60      0.81      0.69     90675\n",
      "\n",
      "    accuracy                           0.63    181350\n",
      "   macro avg       0.65      0.63      0.62    181350\n",
      "weighted avg       0.65      0.63      0.62    181350\n",
      "\n"
     ]
    }
   ],
   "source": [
    "print(classification_report(y, y_pred))"
   ]
  },
  {
   "cell_type": "markdown",
   "id": "1410fa78",
   "metadata": {},
   "source": [
    "## Test Data "
   ]
  },
  {
   "cell_type": "code",
   "execution_count": 125,
   "id": "ab95e530",
   "metadata": {},
   "outputs": [],
   "source": [
    "test = pd.read_csv('test.csv', header=None)\n",
    "np_test = test.to_numpy()"
   ]
  },
  {
   "cell_type": "code",
   "execution_count": 126,
   "id": "7a2465fd",
   "metadata": {},
   "outputs": [],
   "source": [
    "X_test, y_test = prepare_data(np_test)"
   ]
  },
  {
   "cell_type": "code",
   "execution_count": 127,
   "id": "a31734e1",
   "metadata": {},
   "outputs": [],
   "source": [
    "y_pred = predict(X_test,w)"
   ]
  },
  {
   "cell_type": "code",
   "execution_count": 128,
   "id": "8252ec09",
   "metadata": {},
   "outputs": [
    {
     "name": "stdout",
     "output_type": "stream",
     "text": [
      "              precision    recall  f1-score   support\n",
      "\n",
      "         0.0       0.97      0.46      0.62     11196\n",
      "         1.0       0.11      0.82      0.19       914\n",
      "\n",
      "    accuracy                           0.48     12110\n",
      "   macro avg       0.54      0.64      0.41     12110\n",
      "weighted avg       0.90      0.48      0.59     12110\n",
      "\n"
     ]
    }
   ],
   "source": [
    "print(classification_report(y_test, y_pred))"
   ]
  },
  {
   "cell_type": "code",
   "execution_count": null,
   "id": "1face33d",
   "metadata": {},
   "outputs": [],
   "source": []
  }
 ],
 "metadata": {
  "kernelspec": {
   "display_name": "Python 3 (ipykernel)",
   "language": "python",
   "name": "python3"
  },
  "language_info": {
   "codemirror_mode": {
    "name": "ipython",
    "version": 3
   },
   "file_extension": ".py",
   "mimetype": "text/x-python",
   "name": "python",
   "nbconvert_exporter": "python",
   "pygments_lexer": "ipython3",
   "version": "3.8.12"
  }
 },
 "nbformat": 4,
 "nbformat_minor": 5
}
