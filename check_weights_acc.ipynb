{
 "cells": [
  {
   "cell_type": "code",
   "execution_count": 1,
   "id": "d69c866d",
   "metadata": {},
   "outputs": [],
   "source": [
    "import numpy as np\n",
    "import pandas as pd\n",
    "from sklearn.metrics import classification_report"
   ]
  },
  {
   "cell_type": "code",
   "execution_count": 2,
   "id": "3df2da19",
   "metadata": {},
   "outputs": [
    {
     "name": "stdout",
     "output_type": "stream",
     "text": [
      "(91,)\n"
     ]
    }
   ],
   "source": [
    "x = open('part-00000')\n",
    "lines = x.readlines()\n",
    "w = np.zeros(len(lines))\n",
    "print(w.shape)\n",
    "for line in lines:\n",
    "    wi, val = line.strip().split('\\t', 1)\n",
    "    w[int(wi[1:])] = float(val)"
   ]
  },
  {
   "cell_type": "code",
   "execution_count": 3,
   "id": "dd2ef9ab",
   "metadata": {},
   "outputs": [],
   "source": [
    "data = pd.read_csv('os_data.csv', header=None)\n",
    "np_data = data.to_numpy()"
   ]
  },
  {
   "cell_type": "code",
   "execution_count": 13,
   "id": "1ad8b151",
   "metadata": {},
   "outputs": [],
   "source": [
    "def prepare_data(data):\n",
    "    y = data[:,-1]\n",
    "    x = data[:,:-1]\n",
    "    bias = np.ones((len(x),1))\n",
    "    return np.concatenate((bias,x ), axis = 1), y\n",
    "\n",
    "def sigmoid(x):\n",
    "    return 1/(1+np.exp(-x))\n",
    "\n",
    "def predict(X, w):\n",
    "    return sigmoid(np.dot(X,w)) > 0.5\n",
    "   "
   ]
  },
  {
   "cell_type": "code",
   "execution_count": 14,
   "id": "d30444ac",
   "metadata": {},
   "outputs": [],
   "source": [
    "X, y = prepare_data(np_data)"
   ]
  },
  {
   "cell_type": "code",
   "execution_count": 15,
   "id": "9617c971",
   "metadata": {},
   "outputs": [],
   "source": [
    "y_pred = predict(X,w)"
   ]
  },
  {
   "cell_type": "code",
   "execution_count": 16,
   "id": "e7651997",
   "metadata": {},
   "outputs": [
    {
     "name": "stdout",
     "output_type": "stream",
     "text": [
      "              precision    recall  f1-score   support\n",
      "\n",
      "         0.0       0.73      0.33      0.46     90675\n",
      "         1.0       0.57      0.88      0.69     90675\n",
      "\n",
      "    accuracy                           0.61    181350\n",
      "   macro avg       0.65      0.61      0.57    181350\n",
      "weighted avg       0.65      0.61      0.57    181350\n",
      "\n"
     ]
    }
   ],
   "source": [
    "print(classification_report(y, y_pred))"
   ]
  },
  {
   "cell_type": "markdown",
   "id": "f9acd63d",
   "metadata": {},
   "source": [
    "## Test Data "
   ]
  },
  {
   "cell_type": "code",
   "execution_count": 17,
   "id": "218474cd",
   "metadata": {},
   "outputs": [],
   "source": [
    "test = pd.read_csv('test.csv', header=None)\n",
    "np_test = test.to_numpy()"
   ]
  },
  {
   "cell_type": "code",
   "execution_count": 18,
   "id": "793cc7bf",
   "metadata": {},
   "outputs": [],
   "source": [
    "X_test, y_test = prepare_data(np_test)"
   ]
  },
  {
   "cell_type": "code",
   "execution_count": 19,
   "id": "3f30e5f0",
   "metadata": {},
   "outputs": [],
   "source": [
    "y_pred = predict(X_test,w)"
   ]
  },
  {
   "cell_type": "code",
   "execution_count": 20,
   "id": "53c1e62d",
   "metadata": {},
   "outputs": [
    {
     "name": "stdout",
     "output_type": "stream",
     "text": [
      "              precision    recall  f1-score   support\n",
      "\n",
      "         0.0       0.97      0.34      0.50     11196\n",
      "         1.0       0.10      0.88      0.18       914\n",
      "\n",
      "    accuracy                           0.38     12110\n",
      "   macro avg       0.53      0.61      0.34     12110\n",
      "weighted avg       0.90      0.38      0.48     12110\n",
      "\n"
     ]
    }
   ],
   "source": [
    "print(classification_report(y_test, y_pred))"
   ]
  }
 ],
 "metadata": {
  "kernelspec": {
   "display_name": "Python 3 (ipykernel)",
   "language": "python",
   "name": "python3"
  },
  "language_info": {
   "codemirror_mode": {
    "name": "ipython",
    "version": 3
   },
   "file_extension": ".py",
   "mimetype": "text/x-python",
   "name": "python",
   "nbconvert_exporter": "python",
   "pygments_lexer": "ipython3",
   "version": "3.8.12"
  }
 },
 "nbformat": 4,
 "nbformat_minor": 5
}
