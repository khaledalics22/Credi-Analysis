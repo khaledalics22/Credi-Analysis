{
 "cells": [
  {
   "cell_type": "code",
   "execution_count": 1,
   "id": "a9c09f83",
   "metadata": {},
   "outputs": [],
   "source": [
    "import numpy as np\n",
    "import pandas as pd\n",
    "import matplotlib.pyplot as plt\n",
    "from sklearn.metrics import classification_report"
   ]
  },
  {
   "cell_type": "code",
   "execution_count": 2,
   "id": "a092e6ba",
   "metadata": {},
   "outputs": [
    {
     "name": "stdout",
     "output_type": "stream",
     "text": [
      "(29,)\n"
     ]
    }
   ],
   "source": [
    "x = open('part-00000')\n",
    "lines = x.readlines()\n",
    "w = np.zeros(len(lines))\n",
    "print(w.shape)\n",
    "for line in lines:\n",
    "    wi, val = line.strip().split('\\t', 1)\n",
    "    w[int(wi[1:])] = float(val)"
   ]
  },
  {
   "cell_type": "markdown",
   "id": "a3ece693",
   "metadata": {},
   "source": [
    "## Train data"
   ]
  },
  {
   "cell_type": "code",
   "execution_count": 3,
   "id": "a2386200",
   "metadata": {},
   "outputs": [],
   "source": [
    "data = pd.read_csv('os_data.csv', header=None)\n",
    "np_data = data.to_numpy()"
   ]
  },
  {
   "cell_type": "code",
   "execution_count": 4,
   "id": "67d0daf0",
   "metadata": {},
   "outputs": [],
   "source": [
    "def prepare_data(data):\n",
    "    y = data[:,-1]\n",
    "    x = data[:,:-1]\n",
    "    bias = np.ones((len(x),1))\n",
    "    return np.concatenate((bias,x ), axis = 1), y\n",
    "\n",
    "def sigmoid(x):\n",
    "    return 1/(1+np.exp(-x))\n",
    "\n",
    "def predict(X, w):\n",
    "    return sigmoid(np.dot(X,w)) > 0.5\n",
    "   "
   ]
  },
  {
   "cell_type": "code",
   "execution_count": 5,
   "id": "35b8a478",
   "metadata": {},
   "outputs": [],
   "source": [
    "X, y = prepare_data(np_data)"
   ]
  },
  {
   "cell_type": "code",
   "execution_count": 6,
   "id": "1a8e5d51",
   "metadata": {},
   "outputs": [
    {
     "data": {
      "text/plain": [
       "(166850, 29)"
      ]
     },
     "execution_count": 6,
     "metadata": {},
     "output_type": "execute_result"
    }
   ],
   "source": [
    "X.shape"
   ]
  },
  {
   "cell_type": "code",
   "execution_count": 7,
   "id": "3edf96dd",
   "metadata": {},
   "outputs": [],
   "source": [
    "y_pred = predict(X,w)"
   ]
  },
  {
   "cell_type": "code",
   "execution_count": 8,
   "id": "73069789",
   "metadata": {},
   "outputs": [],
   "source": [
    "train_report = classification_report(y, y_pred, output_dict=True)\n",
    "train_acc = train_report['accuracy']\n",
    "train_f1= train_report['0.0']['f1-score']\n",
    "train_f2 = train_report['1.0']['f1-score']"
   ]
  },
  {
   "cell_type": "markdown",
   "id": "b4750198",
   "metadata": {},
   "source": [
    "# Valid Data"
   ]
  },
  {
   "cell_type": "code",
   "execution_count": 9,
   "id": "c422509e",
   "metadata": {},
   "outputs": [],
   "source": [
    "valid = pd.read_csv('valid.csv', header=None)\n",
    "np_valid = valid.to_numpy()"
   ]
  },
  {
   "cell_type": "code",
   "execution_count": 10,
   "id": "63d2f16d",
   "metadata": {},
   "outputs": [],
   "source": [
    "X_valid, y_valid = prepare_data(np_valid)"
   ]
  },
  {
   "cell_type": "code",
   "execution_count": 11,
   "id": "3086ada5",
   "metadata": {},
   "outputs": [],
   "source": [
    "y_pred = predict(X_valid,w)"
   ]
  },
  {
   "cell_type": "code",
   "execution_count": 12,
   "id": "1d76d428",
   "metadata": {
    "scrolled": true
   },
   "outputs": [],
   "source": [
    "valid_report = classification_report(y_valid, y_pred, output_dict=True)\n",
    "valid_acc = valid_report['accuracy']\n",
    "valid_f1= valid_report['0.0']['f1-score']\n",
    "valid_f2 = valid_report['1.0']['f1-score']"
   ]
  },
  {
   "cell_type": "markdown",
   "id": "485303a9",
   "metadata": {},
   "source": [
    "## Test Data "
   ]
  },
  {
   "cell_type": "code",
   "execution_count": 13,
   "id": "f12dafec",
   "metadata": {},
   "outputs": [],
   "source": [
    "test = pd.read_csv('test.csv', header=None)\n",
    "np_test = test.to_numpy()"
   ]
  },
  {
   "cell_type": "code",
   "execution_count": 14,
   "id": "01049d83",
   "metadata": {},
   "outputs": [],
   "source": [
    "X_test, y_test = prepare_data(np_test)"
   ]
  },
  {
   "cell_type": "code",
   "execution_count": 15,
   "id": "07f3a0b4",
   "metadata": {},
   "outputs": [],
   "source": [
    "y_pred = predict(X_test,w)"
   ]
  },
  {
   "cell_type": "code",
   "execution_count": 16,
   "id": "08b1d414",
   "metadata": {
    "scrolled": true
   },
   "outputs": [],
   "source": [
    "test_report = classification_report(y_test, y_pred, output_dict=True)\n",
    "test_acc = test_report['accuracy']\n",
    "test_f1= test_report['0.0']['f1-score']\n",
    "test_f2 = test_report['1.0']['f1-score']"
   ]
  },
  {
   "cell_type": "code",
   "execution_count": 17,
   "id": "4cd0cef9",
   "metadata": {
    "scrolled": true
   },
   "outputs": [
    {
     "data": {
      "text/plain": [
       "Text(0, 0.5, 'Percentage')"
      ]
     },
     "execution_count": 17,
     "metadata": {},
     "output_type": "execute_result"
    },
    {
     "data": {
      "image/png": "[encoded data removed]",
      "text/plain": [
       "<Figure size 432x288 with 1 Axes>"
      ]
     },
     "metadata": {
      "needs_background": "light"
     },
     "output_type": "display_data"
    }
   ],
   "source": [
    "plt.bar([1,3,5], np.array([train_acc,train_f2,train_f1])*100,width=0.4)\n",
    "plt.bar([1.5,3.5,5.5], np.array([valid_acc,valid_f2,valid_f1])*100,width=0.4)\n",
    "plt.bar([2,4,6], np.array([test_acc,test_f2,test_f1])*100,width=0.4)\n",
    "plt.legend(['train', 'valid', 'test'],loc = 'upper left')\n",
    "plt.ylim([0,100])\n",
    "plt.xticks([1.5,3.5,5.5],['accuracy', 'defaulter-f1-score', 'non-defaulters-f1-score'])\n",
    "plt.xlabel('Scores')\n",
    "plt.ylabel('Percentage')"
   ]
  }
 ],
 "metadata": {
  "kernelspec": {
   "display_name": "Python 3 (ipykernel)",
   "language": "python",
   "name": "python3"
  },
  "language_info": {
   "codemirror_mode": {
    "name": "ipython",
    "version": 3
   },
   "file_extension": ".py",
   "mimetype": "text/x-python",
   "name": "python",
   "nbconvert_exporter": "python",
   "pygments_lexer": "ipython3",
   "version": "3.8.12"
  }
 },
 "nbformat": 4,
 "nbformat_minor": 5
}
