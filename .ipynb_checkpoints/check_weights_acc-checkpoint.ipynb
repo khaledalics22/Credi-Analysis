{
 "cells": [
  {
   "cell_type": "code",
   "execution_count": 3,
   "id": "4a001aab",
   "metadata": {},
   "outputs": [],
   "source": [
    "import numpy as np\n",
    "import pandas as pd\n",
    "from sklearn.metrics import classification_report"
   ]
  },
  {
   "cell_type": "code",
   "execution_count": 4,
   "id": "3df2da19",
   "metadata": {},
   "outputs": [
    {
     "name": "stdout",
     "output_type": "stream",
     "text": [
      "(35,)\n"
     ]
    }
   ],
   "source": [
    "x = open('part-00000')\n",
    "lines = x.readlines()\n",
    "w = np.zeros(len(lines))\n",
    "print(w.shape)\n",
    "for line in lines:\n",
    "    wi, val = line.strip().split('\\t', 1)\n",
    "    w[int(wi[1:])] = float(val)"
   ]
  },
  {
   "cell_type": "markdown",
   "id": "db7232d3",
   "metadata": {},
   "source": [
    "## Train data"
   ]
  },
  {
   "cell_type": "code",
   "execution_count": 5,
   "id": "dd2ef9ab",
   "metadata": {},
   "outputs": [],
   "source": [
    "data = pd.read_csv('os_data.csv', header=None)\n",
    "np_data = data.to_numpy()"
   ]
  },
  {
   "cell_type": "code",
   "execution_count": 6,
   "id": "3535ec7b",
   "metadata": {},
   "outputs": [],
   "source": [
    "def prepare_data(data):\n",
    "    y = data[:,-1]\n",
    "    x = data[:,:-1]\n",
    "    bias = np.ones((len(x),1))\n",
    "    return np.concatenate((bias,x ), axis = 1), y\n",
    "\n",
    "def sigmoid(x):\n",
    "    return 1/(1+np.exp(-x))\n",
    "\n",
    "def predict(X, w):\n",
    "    return sigmoid(np.dot(X,w)) > 0.5\n",
    "   "
   ]
  },
  {
   "cell_type": "code",
   "execution_count": 7,
   "id": "d30444ac",
   "metadata": {},
   "outputs": [],
   "source": [
    "X, y = prepare_data(np_data)"
   ]
  },
  {
   "cell_type": "code",
   "execution_count": 8,
   "id": "9e1e5930",
   "metadata": {},
   "outputs": [
    {
     "data": {
      "text/plain": [
       "(181350, 35)"
      ]
     },
     "execution_count": 8,
     "metadata": {},
     "output_type": "execute_result"
    }
   ],
   "source": [
    "X.shape"
   ]
  },
  {
   "cell_type": "code",
   "execution_count": 9,
   "id": "9617c971",
   "metadata": {},
   "outputs": [],
   "source": [
    "y_pred = predict(X,w)"
   ]
  },
  {
   "cell_type": "code",
   "execution_count": 10,
   "id": "e7651997",
   "metadata": {},
   "outputs": [
    {
     "name": "stdout",
     "output_type": "stream",
     "text": [
      "              precision    recall  f1-score   support\n",
      "\n",
      "         0.0       0.61      0.58      0.60     90675\n",
      "         1.0       0.60      0.63      0.62     90675\n",
      "\n",
      "    accuracy                           0.61    181350\n",
      "   macro avg       0.61      0.61      0.61    181350\n",
      "weighted avg       0.61      0.61      0.61    181350\n",
      "\n"
     ]
    }
   ],
   "source": [
    "print(classification_report(y, y_pred))"
   ]
  },
  {
   "cell_type": "markdown",
   "id": "7d961872",
   "metadata": {},
   "source": [
    "## Test Data "
   ]
  },
  {
   "cell_type": "code",
   "execution_count": 15,
   "id": "db73e8db",
   "metadata": {},
   "outputs": [],
   "source": [
    "test = pd.read_csv('test.csv', header=None)\n",
    "np_test = test.to_numpy()"
   ]
  },
  {
   "cell_type": "code",
   "execution_count": 16,
   "id": "a6780afb",
   "metadata": {},
   "outputs": [],
   "source": [
    "X_test, y_test = prepare_data(np_test)"
   ]
  },
  {
   "cell_type": "code",
   "execution_count": 17,
   "id": "cbf05e9d",
   "metadata": {},
   "outputs": [],
   "source": [
    "y_pred = predict(X_test,w)"
   ]
  },
  {
   "cell_type": "code",
   "execution_count": 18,
   "id": "9bd1bef4",
   "metadata": {},
   "outputs": [
    {
     "name": "stdout",
     "output_type": "stream",
     "text": [
      "              precision    recall  f1-score   support\n",
      "\n",
      "         0.0       0.96      0.58      0.73     11196\n",
      "         1.0       0.12      0.67      0.20       914\n",
      "\n",
      "    accuracy                           0.59     12110\n",
      "   macro avg       0.54      0.63      0.46     12110\n",
      "weighted avg       0.89      0.59      0.69     12110\n",
      "\n"
     ]
    }
   ],
   "source": [
    "print(classification_report(y_test, y_pred))"
   ]
  }
 ],
 "metadata": {
  "kernelspec": {
   "display_name": "Python 3 (ipykernel)",
   "language": "python",
   "name": "python3"
  },
  "language_info": {
   "codemirror_mode": {
    "name": "ipython",
    "version": 3
   },
   "file_extension": ".py",
   "mimetype": "text/x-python",
   "name": "python",
   "nbconvert_exporter": "python",
   "pygments_lexer": "ipython3",
   "version": "3.8.12"
  }
 },
 "nbformat": 4,
 "nbformat_minor": 5
}
